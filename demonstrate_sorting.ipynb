{
 "cells": [
  {
   "cell_type": "code",
   "execution_count": 1,
   "metadata": {},
   "outputs": [],
   "source": [
    "import numpy as np\n",
    "import matplotlib.pyplot as plt\n",
    "import os\n",
    "%matplotlib inline"
   ]
  },
  {
   "cell_type": "code",
   "execution_count": 2,
   "metadata": {},
   "outputs": [],
   "source": [
    "fortran_unit_tests=True\n",
    "\n",
    "if fortran_unit_tests and os.path.exists(\"unit_tests.F90\"):\n",
    "  os.remove(\"unit_tests.F90\")"
   ]
  },
  {
   "cell_type": "code",
   "execution_count": 3,
   "metadata": {},
   "outputs": [],
   "source": [
    "# Initialize variables\n",
    "drds=0.\n",
    "drdt=-1\n",
    "nk = 3\n",
    "ns = 3*4\n",
    "Tl = np.zeros( (nk,2) )\n",
    "Tr = np.zeros( (nk,2) )\n",
    "zl = np.zeros( (nk,2) )\n",
    "zr = np.zeros( (nk,2) )\n",
    "hl = np.ones( nk )*10\n",
    "hr = np.ones( nk )*10\n",
    "\n",
    "zl[0,0] = 0\n",
    "zr[0,0] = 0\n",
    "zl[0,1] = hl[0]\n",
    "zr[0,1] = hr[0]\n",
    "\n",
    "for k in range(1,nk):\n",
    "  zl[k,0] = zl[k-1,1]\n",
    "  zl[k,1] = zl[k,0] + hl[k]\n",
    "  zr[k,0] = zr[k-1,1]\n",
    "  zr[k,1] = zr[k,0] + hr[k]"
   ]
  },
  {
   "cell_type": "code",
   "execution_count": 4,
   "metadata": {},
   "outputs": [],
   "source": [
    "def calc_drho( T1, drdt1, T2, drdt2 ):\n",
    "  if T1 == T2:\n",
    "    return 0\n",
    "  else:\n",
    "    return 0.5*(drdt1 + drdt2)*( T1 - T2 )\n",
    "def find_pos(drhoneg, drhopos):\n",
    "  if drhopos - drhoneg > 0:\n",
    "    pos = -drhoneg/(drhopos-drhoneg)\n",
    "  elif drhopos-drhoneg  == 0.:\n",
    "    if drhoneg > 0.:\n",
    "      pos = 0.\n",
    "    else:\n",
    "      pos = 1.\n",
    "  if (pos < 0) or (pos > 1):\n",
    "    print(\"SOMETHING WENT WRONG\",pos)\n",
    "  return pos\n",
    "def abs_pos(zl,kl,pos):\n",
    "  kl = np.int(kl)\n",
    "  return zl[kl,0]*(1-pos) + zl[kl,1]*pos\n",
    "def mark_unstable(Tl,drdt):\n",
    "  nk = Tl.shape[0]\n",
    "  stable = np.ones(nk,dtype=bool)\n",
    "  for k in range(0,nk):\n",
    "    if drdt*(Tl[k,1]-Tl[k,0])<=0.:\n",
    "      stable[k] = False\n",
    "  return stable\n",
    "def increment_interface(kl,ki,searching_this_column,searching_other_column):\n",
    "  reached_bottom = False\n",
    "  if (ki == 1):\n",
    "      if (kl < nk-1):\n",
    "          kl = kl + 1\n",
    "          ki = 0\n",
    "      else:\n",
    "        reached_bottom = True\n",
    "        searching_this_column  = False\n",
    "        searching_other_column = True\n",
    "  else:\n",
    "      ki = 1\n",
    "  return kl, ki, searching_this_column, searching_other_column, reached_bottom\n",
    "\n",
    "def set_position(drhotop, drhobot, ki_other, ksurf):\n",
    "  if drhotop > 0. or ksurf == 0:\n",
    "    pos = 0.\n",
    "  elif drhotop > drhobot:\n",
    "    pos = 1.\n",
    "  elif drhotop < 0. and drhobot < 0.:\n",
    "    pos = 1.\n",
    "  elif drhotop == 0. and drhobot == 0.:\n",
    "    pos = ki_other\n",
    "  else:\n",
    "    pos = find_pos(drhotop,drhobot)\n",
    "  return pos"
   ]
  },
  {
   "cell_type": "code",
   "execution_count": 5,
   "metadata": {},
   "outputs": [],
   "source": [
    "def sorting_algorithm(Tl, Tr, hl, hr, zl, zr, drdt, verbose = False):\n",
    "    drdp = 1.e-5\n",
    "    ki_left = 0 ; ki_right = 0\n",
    "    kl_left = 0 ; kl_right = 0\n",
    "    reached_bottom = False\n",
    "    searching_left_column  = True\n",
    "    searching_right_column = True\n",
    "    PoL = np.zeros( ns )\n",
    "    PoR = np.zeros( ns )\n",
    "    KoL = np.zeros( ns, dtype=int )\n",
    "    KoR = np.zeros( ns, dtype=int )\n",
    "    point_left = np.zeros( ns, dtype = bool)\n",
    "    # Label stable/unstable layers\n",
    "    stable_left  = mark_unstable(Tl,drdt)\n",
    "    stable_right = mark_unstable(Tr,drdt)\n",
    "    # Effective layer thickenss\n",
    "    hEff = np.zeros( ns-1 )\n",
    "    \n",
    "    for ksurf in range(0,ns):\n",
    "      if verbose: \n",
    "          print(\"ksurf: %d kl_left: %d ki_left: %d kl_right: %d ki_right: %d\" %\n",
    "               (ksurf, kl_left, ki_left, kl_right, ki_right))\n",
    "\n",
    "      # Check to see if the layers we're searching are statically unstable\n",
    "      if ksurf == ns-1:\n",
    "        KoL[ksurf] = Tl.shape[0]-1    \n",
    "        PoL[ksurf] = 1.\n",
    "        KoR[ksurf] = Tr.shape[0]-1\n",
    "        PoR[ksurf] = 1.\n",
    "        continue\n",
    "      elif not stable_left[kl_left]:\n",
    "        if verbose:\n",
    "          print(\"\\tLeft layer unstable point to %d %f\" % (KoR[ksurf-1],PoR[ksurf-1]))\n",
    "        if ksurf > 0:\n",
    "          PoL[ksurf] = ki_left\n",
    "          KoL[ksurf] = kl_left\n",
    "          PoR[ksurf] = PoR[ksurf-1] \n",
    "          KoR[ksurf] = KoR[ksurf-1]\n",
    "        else:\n",
    "          PoL[ksurf] = 0.\n",
    "          KoL[ksurf] = 0\n",
    "          PoR[ksurf] = 0.\n",
    "          KoR[ksurf] = 0\n",
    "          \n",
    "        kl_left, ki_left, searching_left_column, searching_right_column, reached_bottom = increment_interface(\n",
    "          kl_left, ki_left, searching_left_column, searching_right_column)\n",
    "        searching_left_column = True\n",
    "        searching_right_column = False\n",
    "        continue\n",
    "      elif not stable_right[kl_right]:\n",
    "        if verbose:\n",
    "          print(\"\\tRight layer unstable point to %d %f\" % (KoL[ksurf-1],PoL[ksurf-1]))\n",
    "        if ksurf > 0:\n",
    "          PoR[ksurf] = ki_right\n",
    "          KoR[ksurf] = kl_right\n",
    "          PoL[ksurf] = PoL[ksurf-1]\n",
    "          KoL[ksurf] = KoL[ksurf-1]\n",
    "        else:\n",
    "          PoR[ksurf] = 0.\n",
    "          KoR[ksurf] = 0 \n",
    "          PoL[ksurf] = 0.\n",
    "          KoL[ksurf] = 0.\n",
    "          \n",
    "        kl_right, ki_right, searching_right_column, searching_left_column, reached_bottom = increment_interface(\n",
    "          kl_right, ki_right, searching_right_column, searching_left_column)\n",
    "        searching_left_column = False\n",
    "        searching_right_column = True\n",
    "        continue\n",
    "      else:\n",
    "        # Need to check the interfaces of each side to see which direction we should search\n",
    "        drho = calc_drho(Tr[kl_right,ki_right], drdt, Tl[kl_left,ki_left], drdt)\n",
    "        if verbose:\n",
    "            print(\"drho: %f Tl[%d,%d]: %f, Tr[%d,%d]: %f\" % (drho, kl_left,ki_left,Tl[kl_left,ki_left],\n",
    "                                                         kl_right,ki_right,Tr[kl_right,ki_right]))\n",
    "\n",
    "        if not reached_bottom:\n",
    "          if drho < 0:\n",
    "            if verbose:\n",
    "                print(\"\\tdrho < 0: Search left\")\n",
    "            searching_left_column  = True\n",
    "            searching_right_column = False\n",
    "          elif drho > 0:\n",
    "            if verbose:\n",
    "                print(\"\\tdrho > 0: Search right\")\n",
    "            searching_left_column  = False\n",
    "            searching_right_column = True\n",
    "          else:\n",
    "            if (kl_left == 0) and (kl_right == 0) and ((ki_left + ki_right) == 0):\n",
    "              if verbose:\n",
    "                  print(\"\\tdrho = 0: At surface\")\n",
    "              searching_left_column  = True\n",
    "              searching_right_column = False\n",
    "            else:\n",
    "              if verbose:\n",
    "                  print(\"\\tdrho = 0: Switch direction\")\n",
    "              searching_left_column  = not searching_left_column\n",
    "              searching_right_column = not searching_right_column\n",
    "\n",
    "        if searching_left_column:\n",
    "          # The position of the interface we're searching from is now known\n",
    "          PoR[ksurf] = ki_right\n",
    "          KoR[ksurf] = kl_right\n",
    "\n",
    "          # Figure out whether the layer is stable relative to the interface\n",
    "          T_ref = Tr[kl_right,ki_right]\n",
    "          drhotop = calc_drho(Tl[kl_left,0], drdt, T_ref, drdt)\n",
    "          drhobot = calc_drho(Tl[kl_left,1], drdt, T_ref, drdt)\n",
    "\n",
    "          KoL[ksurf] = kl_left\n",
    "          PoL[ksurf] = set_position(drhotop, drhobot, ki_right, ksurf)\n",
    "          # Check if we've reached the bottom, otherwise increment the interface/layer\n",
    "          kl_right, ki_right, searching_left_column, searching_right_column, reached_bottom =increment_interface(\n",
    "            kl_right,ki_right,searching_left_column,searching_right_column)        \n",
    "          point_left[ksurf] = True\n",
    "          if verbose:\n",
    "              print(\"\\tSearch left\")\n",
    "              print(\"\\t\\t Temp right: %f\" % T_ref)\n",
    "              print(\"\\t\\t Temp left top: %f\" % Tl[kl_left,0])\n",
    "              print(\"\\t\\t Temp left bot: %f\" % Tl[kl_left,1])\n",
    "              print(\"\\t\\t drhotop: %f drhobot: %f\" % (drhotop, drhobot))\n",
    "              print(\"\\t\\t PoL: %f\" % PoL[ksurf])\n",
    "\n",
    "        elif searching_right_column:\n",
    "          # The position of the interface we're searching from is now known\n",
    "          PoL[ksurf] = ki_left\n",
    "          KoL[ksurf] = kl_left\n",
    "\n",
    "          # Figure out whether the layer is stable relative to the interface\n",
    "          T_ref = Tl[kl_left,ki_left]\n",
    "          drhotop = calc_drho(Tr[kl_right,0], drdt, T_ref, drdt)\n",
    "          drhobot = calc_drho(Tr[kl_right,1], drdt, T_ref, drdt)\n",
    "\n",
    "          KoR[ksurf] = kl_right\n",
    "          PoR[ksurf] = set_position(drhotop, drhobot, ki_left, ksurf)\n",
    "          # Check if we've reached the bottom, otherwise increment the interface/layer\n",
    "\n",
    "          kl_left, ki_left, searching_right_column, searching_left_column, reached_bottom = increment_interface(\n",
    "            kl_left,ki_left,searching_right_column,searching_left_column)\n",
    "          point_left[ksurf] = False\n",
    "          if verbose:\n",
    "              print(\"\\tSearch right\")\n",
    "              print(\"\\t\\t Temp left: %f\" % T_ref)\n",
    "              print(\"\\t\\t Temp right top: %f\" % Tr[kl_right,0])\n",
    "              print(\"\\t\\t Temp right bot: %f\" % Tr[kl_right,1])\n",
    "              print(\"\\t\\t drhotop: %f drhobot: %f\" % (drhotop, drhobot))\n",
    "              print(\"\\t\\t PoR: %f\" % PoR[ksurf])\n",
    "        else:\n",
    "          print(\"ki = %d: WAAAAAAAAA something really strange happened\" % ksurf)\n",
    "        \n",
    "        if ksurf>1:\n",
    "            if KoL[ksurf] == KoL[ksurf-1]:\n",
    "                hL_sub = (PoL[ksurf] - PoL[ksurf-1])*hl[KoL[ksurf]]\n",
    "            else:\n",
    "                hL_sub = 0.\n",
    "            if KoR[ksurf] == KoR[ksurf-1]:\n",
    "                hR_sub = (PoR[ksurf] - PoR[ksurf-1])*hr[KoR[ksurf]]\n",
    "            else:\n",
    "                hR_sub = 0.\n",
    "            if hL_sub > 0. and hR_sub > 0.:\n",
    "                hEff[ksurf-1] = 2. * ((hL_sub * hR_sub)/(hL_sub + hR_sub))\n",
    "            else:\n",
    "                hEff[ksurf-1] = 0.\n",
    "    return KoL, PoL, KoR, PoR, hEff, point_left"
   ]
  },
  {
   "cell_type": "code",
   "execution_count": 6,
   "metadata": {},
   "outputs": [],
   "source": [
    "def plot_surfaces(KoL, PoL, KoR, PoR, point_left, zl, zr, Tl, Tr, title, drdt):\n",
    "    plt.figure()\n",
    "    # Plot the surfaces themselves\n",
    "    for ks in range(0,ns):\n",
    "      if point_left[ks] == 1.:\n",
    "        x0 = 0.25\n",
    "        y0 = abs_pos( zr, KoR[ks], PoR[ks] )\n",
    "        x1 = -0.25\n",
    "        y1 = abs_pos( zl, KoL[ks], PoL[ks] )\n",
    "        plt.text(x0+0.05,y0,ks)\n",
    "        plt.plot([x0,x1],[y0,y1],linestyle='-.',color='g')\n",
    "      else:\n",
    "        x0 = -0.25\n",
    "        y0 = abs_pos( zl, KoL[ks], PoL[ks] )\n",
    "        x1 = 0.25\n",
    "        y1 = abs_pos( zr, KoR[ks], PoR[ks] )\n",
    "        plt.text(x0-0.05,y0,ks)\n",
    "        plt.plot([x0,x1],[y0,y1],linestyle=':',color='c')\n",
    "      \n",
    "    plt.xlim((-1, 1.))\n",
    "    plt.ylim((-5, 35))\n",
    "    plt.gca().invert_yaxis()\n",
    "    plt.xticks([])\n",
    "    plt.yticks([])\n",
    "    plt.title(title)\n",
    "    \n",
    "    # Plot temperatures and interfaces\n",
    "    lline_x = np.array([-0.8,-0.4])\n",
    "    rline_x = np.array([0.4, 0.8])\n",
    "    toffset = 2\n",
    "    boffset = -1\n",
    "    \n",
    "    for k in range(0,Tl.shape[0]):\n",
    "      # Draw lines for interfaces and above/below interface\n",
    "      # label with the temperature\n",
    "      plt.plot(lline_x,[zl[k,0],zl[k,0]],'k')\n",
    "      plt.plot(lline_x,[zl[k,1],zl[k,1]],'k')\n",
    "      plt.text(lline_x[0],zl[k,0]+toffset,'T=%d' % Tl[k,0])\n",
    "      plt.text(lline_x[0],zl[k,1]+boffset,'T=%d' % Tl[k,1])\n",
    "\n",
    "      plt.plot(rline_x,[zr[k,0],zr[k,0]],'k')\n",
    "      plt.plot(rline_x,[zr[k,1],zr[k,1]],'k')\n",
    "      plt.text(rline_x[0],zr[k,0]+toffset,'T=%d' % Tr[k,0])\n",
    "      plt.text(rline_x[0],zr[k,1]+boffset,'T=%d' % Tr[k,1])\n",
    "\n",
    "    # Draw a circled-x if the layer is unstable\n",
    "    stable_left  = mark_unstable(Tl,drdt)\n",
    "    stable_right = mark_unstable(Tr,drdt)\n",
    "    size = 128\n",
    "    for k in range(0,Tl.shape[0]):\n",
    "      if not stable_left[k]:\n",
    "        plt.scatter(lline_x.mean(),0.5*(zl[k,0]+zl[k,1]),s=size,marker='o',color='black')\n",
    "        plt.scatter(lline_x.mean(),0.5*(zl[k,0]+zl[k,1]),s=size,marker='x',color='white')\n",
    "      if not stable_right[k]:\n",
    "        plt.scatter(rline_x.mean(),0.5*(zr[k,0]+zr[k,1]),s=size,marker='o',color='black')\n",
    "        plt.scatter(rline_x.mean(),0.5*(zr[k,0]+zr[k,1]),s=size,marker='x',color='white')\n",
    "            \n",
    "    \n",
    "      "
   ]
  },
  {
   "cell_type": "code",
   "execution_count": 7,
   "metadata": {},
   "outputs": [],
   "source": [
    "def plot_test_case(Tl, Tr, zl, zr, drdt, title, verbose = False, fortran_unit_tests = False):\n",
    "  KoL, PoL, KoR, PoR, hEff, point_left = sorting_algorithm(Tl,Tr, hl, hr, zl,zr,drdt, verbose = verbose)\n",
    "  plot_surfaces( KoL, PoL, KoR, PoR, point_left, zl, zr, Tl, Tr, title, drdt)\n",
    "  print(\"ki\\tKoL\\tKoR\\tPoL\\tPoR\\thEff\")\n",
    "  for ksurf in range(0,ns):\n",
    "    if ksurf < ns-1:\n",
    "        print(\"%d\\t%d\\t%d\\t%3.2f\\t%3.2f\\t%3.2f\" % (ksurf+1, KoL[ksurf]+1, KoR[ksurf]+1, PoL[ksurf], PoR[ksurf],hEff[ksurf]))\n",
    "    else:\n",
    "        print(\"%d\\t%d\\t%d\\t%3.2f\\t%3.2f\" % (ksurf+1, KoL[ksurf]+1, KoR[ksurf]+1, PoL[ksurf], PoR[ksurf]))\n",
    "  if fortran_unit_tests:\n",
    "    indent = '  '\n",
    "    with open('unit_tests.F90','a+') as f:\n",
    "        # Format output so that it's easy to copy and paste into Fortran-based MOM6 unit tests\n",
    "        print(indent,''.join(['TiL(%d,:) = (/ %3.2f, %3.2f /); ' % (k+1, Tl[k,0], Tl[k,1]) for k in range(0,nk)]),file=f)\n",
    "        print(indent,''.join(['TiR(%d,:) = (/ %3.2f, %3.2f /); ' % (k+1, Tr[k,0], Tr[k,1]) for k in range(0,nk)]),file=f)\n",
    "        print(indent,'call mark_unstable_cells( CS, nk, dRdT, dRdS, Til, Sil, Pres_l, stable_l )',file=f)\n",
    "        print(indent,'call mark_unstable_cells( CS, nk, dRdT, dRdS, Tir, Sir, Pres_r, stable_r )',file=f)\n",
    "        print(indent,'call find_neutral_surface_positions_discontinuous(CS, nk, Pres_l, hL, TiL, SiL, dRdT, dRdS, stable_l, &',file=f)\n",
    "        print(indent,'  ' + 'Pres_r, hR, TiR, SiR, dRdT, dRdS, stable_r, PoL, PoR, KoL, KoR, hEff)',file=f)\n",
    "        print(indent,'ndiff_unit_tests_discontinuous = ndiff_unit_tests_discontinuous .or.  test_nsp(v, 12, KoL, KoR, PoL, PoR, hEff, &',file=f)\n",
    "        print(indent,'  (/ ' + ', '.join([str(KoL[ksurf]+1) for ksurf in range(0,ns)]) + ' /)' + ',  & ! KoL' ,file=f)\n",
    "        print(indent,'  (/ ' + ', '.join([str(KoR[ksurf]+1) for ksurf in range(0,ns)]) + ' /)' + ',  & ! KoR' ,file=f)\n",
    "        print(indent,'  (/ ' + ', '.join(['%3.2f' % PoL[ksurf] for ksurf in range(0,ns)]) + ' /)' + ',  & ! PoL',file=f)\n",
    "        print(indent,'  (/ ' + ', '.join(['%3.2f' % PoR[ksurf] for ksurf in range(0,ns)]) + ' /)' + ',  & ! PoR' ,file=f)\n",
    "        print(indent,'  (/ ' + ', '.join(['%3.2f' % hEff[ksurf] for ksurf in range(0,ns-1)]) + ' /)' + ',  & ! hEff',file=f)\n",
    "        print(indent,'  \\'%s\\')\\n' % title,file=f)"
   ]
  },
  {
   "cell_type": "code",
   "execution_count": 8,
   "metadata": {},
   "outputs": [
    {
     "name": "stdout",
     "output_type": "stream",
     "text": [
      "ki\tKoL\tKoR\tPoL\tPoR\thEff\n",
      "1\t1\t1\t0.00\t0.00\t0.00\n",
      "2\t1\t1\t0.00\t0.00\t10.00\n",
      "3\t1\t1\t1.00\t1.00\t0.00\n",
      "4\t1\t2\t1.00\t0.00\t0.00\n",
      "5\t2\t2\t0.00\t0.00\t0.00\n",
      "6\t2\t2\t0.00\t0.00\t10.00\n",
      "7\t2\t2\t1.00\t1.00\t0.00\n",
      "8\t2\t3\t1.00\t0.00\t0.00\n",
      "9\t3\t3\t0.00\t0.00\t0.00\n",
      "10\t3\t3\t0.00\t0.00\t10.00\n",
      "11\t3\t3\t1.00\t1.00\t0.00\n",
      "12\t3\t3\t1.00\t1.00\n"
     ]
    },
    {
     "data": {
      "image/png": "[encoded data removed]",
      "text/plain": [
       "<matplotlib.figure.Figure at 0x7f3d2b1100f0>"
      ]
     },
     "metadata": {},
     "output_type": "display_data"
    }
   ],
   "source": [
    "Tl[0,:] = [22,18]\n",
    "Tl[1,:] = [18,14]\n",
    "Tl[2,:] = [14,10]\n",
    "Tr[0,:] = [22,18]\n",
    "Tr[1,:] = [18,14]\n",
    "Tr[2,:] = [14,10]\n",
    "plot_test_case(Tl,Tr,zl,zr,drdt,'Identical Columns',fortran_unit_tests=fortran_unit_tests)"
   ]
  },
  {
   "cell_type": "code",
   "execution_count": 9,
   "metadata": {},
   "outputs": [
    {
     "name": "stdout",
     "output_type": "stream",
     "text": [
      "ki\tKoL\tKoR\tPoL\tPoR\thEff\n",
      "1\t1\t1\t0.00\t0.00\t0.00\n",
      "2\t1\t1\t0.50\t0.00\t5.00\n",
      "3\t1\t1\t1.00\t0.50\t0.00\n",
      "4\t2\t1\t0.00\t0.50\t5.00\n",
      "5\t2\t1\t0.50\t1.00\t0.00\n",
      "6\t2\t2\t0.50\t0.00\t5.00\n",
      "7\t2\t2\t1.00\t0.50\t0.00\n",
      "8\t3\t2\t0.00\t0.50\t5.00\n",
      "9\t3\t2\t0.50\t1.00\t0.00\n",
      "10\t3\t3\t0.50\t0.00\t5.00\n",
      "11\t3\t3\t1.00\t0.50\t0.00\n",
      "12\t3\t3\t1.00\t1.00\n"
     ]
    },
    {
     "data": {
      "image/png": "[encoded data removed]",
      "text/plain": [
       "<matplotlib.figure.Figure at 0x7f3d22a6b0b8>"
      ]
     },
     "metadata": {},
     "output_type": "display_data"
    }
   ],
   "source": [
    "Tl[0,:] = [22,18]\n",
    "Tl[1,:] = [18,14]\n",
    "Tl[2,:] = [14,10]\n",
    "Tr[0,:] = [20,16]\n",
    "Tr[1,:] = [16,12]\n",
    "Tr[2,:] = [12,8]\n",
    "plot_test_case(Tl,Tr,zl,zr,drdt,'Right slightly cooler',fortran_unit_tests=fortran_unit_tests)"
   ]
  },
  {
   "cell_type": "code",
   "execution_count": 10,
   "metadata": {},
   "outputs": [
    {
     "name": "stdout",
     "output_type": "stream",
     "text": [
      "ki\tKoL\tKoR\tPoL\tPoR\thEff\n",
      "1\t1\t1\t0.00\t0.00\t0.00\n",
      "2\t1\t1\t0.00\t0.50\t5.00\n",
      "3\t1\t1\t0.50\t1.00\t0.00\n",
      "4\t1\t2\t0.50\t0.00\t5.00\n",
      "5\t1\t2\t1.00\t0.50\t0.00\n",
      "6\t2\t2\t0.00\t0.50\t5.00\n",
      "7\t2\t2\t0.50\t1.00\t0.00\n",
      "8\t2\t3\t0.50\t0.00\t5.00\n",
      "9\t2\t3\t1.00\t0.50\t0.00\n",
      "10\t3\t3\t0.00\t0.50\t5.00\n",
      "11\t3\t3\t0.50\t1.00\t0.00\n",
      "12\t3\t3\t1.00\t1.00\n"
     ]
    },
    {
     "data": {
      "image/png": "[encoded data removed]",
      "text/plain": [
       "<matplotlib.figure.Figure at 0x7f3d22ac5358>"
      ]
     },
     "metadata": {},
     "output_type": "display_data"
    }
   ],
   "source": [
    "Tl[0,:] = [20,16]\n",
    "Tl[1,:] = [16,12]\n",
    "Tl[2,:] = [12,8]\n",
    "Tr[0,:] = [22,18]\n",
    "Tr[1,:] = [18,14]\n",
    "Tr[2,:] = [14,10]\n",
    "plot_test_case(Tl,Tr,zl,zr,drdt,'Left slightly cooler',fortran_unit_tests=fortran_unit_tests)"
   ]
  },
  {
   "cell_type": "code",
   "execution_count": 11,
   "metadata": {},
   "outputs": [
    {
     "name": "stdout",
     "output_type": "stream",
     "text": [
      "ki\tKoL\tKoR\tPoL\tPoR\thEff\n",
      "1\t1\t1\t0.00\t0.00\t0.00\n",
      "2\t1\t1\t0.00\t1.00\t0.00\n",
      "3\t1\t2\t0.00\t0.00\t0.00\n",
      "4\t1\t2\t0.00\t0.00\t4.00\n",
      "5\t1\t2\t1.00\t0.25\t0.00\n",
      "6\t2\t2\t0.00\t0.50\t4.00\n",
      "7\t2\t2\t1.00\t0.75\t0.00\n",
      "8\t3\t2\t0.00\t1.00\t0.00\n",
      "9\t3\t3\t0.00\t0.00\t0.00\n",
      "10\t3\t3\t1.00\t0.00\t0.00\n",
      "11\t3\t3\t1.00\t0.00\t0.00\n",
      "12\t3\t3\t1.00\t1.00\n"
     ]
    },
    {
     "data": {
      "image/png": "[encoded data removed]",
      "text/plain": [
       "<matplotlib.figure.Figure at 0x7f3d22ac50f0>"
      ]
     },
     "metadata": {},
     "output_type": "display_data"
    }
   ],
   "source": [
    "Tl[0,:] = [22,20]\n",
    "Tl[1,:] = [18,16]\n",
    "Tl[2,:] = [14,12]\n",
    "Tr[0,:] = [32,24]\n",
    "Tr[1,:] = [22,14]\n",
    "Tr[2,:] = [12,4]\n",
    "plot_test_case(Tl,Tr,zl,zr,drdt,'Right more strongly stratified',fortran_unit_tests=fortran_unit_tests)"
   ]
  },
  {
   "cell_type": "code",
   "execution_count": 12,
   "metadata": {},
   "outputs": [
    {
     "name": "stdout",
     "output_type": "stream",
     "text": [
      "ki\tKoL\tKoR\tPoL\tPoR\thEff\n",
      "1\t1\t1\t0.00\t0.00\t0.00\n",
      "2\t1\t1\t0.00\t1.00\t0.00\n",
      "3\t1\t2\t0.00\t0.00\t0.00\n",
      "4\t1\t2\t0.00\t1.00\t0.00\n",
      "5\t1\t3\t0.00\t0.00\t0.00\n",
      "6\t1\t3\t1.00\t0.00\t0.00\n",
      "7\t2\t3\t0.00\t0.00\t0.00\n",
      "8\t2\t3\t1.00\t0.00\t0.00\n",
      "9\t3\t3\t0.00\t0.00\t0.00\n",
      "10\t3\t3\t0.50\t0.00\t5.00\n",
      "11\t3\t3\t1.00\t0.50\t0.00\n",
      "12\t3\t3\t1.00\t1.00\n"
     ]
    },
    {
     "data": {
      "image/png": "[encoded data removed]",
      "text/plain": [
       "<matplotlib.figure.Figure at 0x7f3d22a5f0f0>"
      ]
     },
     "metadata": {},
     "output_type": "display_data"
    }
   ],
   "source": [
    "Tl[0,:] = [22,18]\n",
    "Tl[1,:] = [18,14]\n",
    "Tl[2,:] = [14,10]\n",
    "Tr[0,:] = [14,14]\n",
    "Tr[1,:] = [14,14]\n",
    "Tr[2,:] = [12,8]\n",
    "plot_test_case(Tl,Tr,zl,zr,drdt,'Deep Mixed layer on the right',fortran_unit_tests=fortran_unit_tests)"
   ]
  },
  {
   "cell_type": "code",
   "execution_count": 13,
   "metadata": {},
   "outputs": [
    {
     "name": "stdout",
     "output_type": "stream",
     "text": [
      "ki\tKoL\tKoR\tPoL\tPoR\thEff\n",
      "1\t1\t1\t0.00\t0.00\t0.00\n",
      "2\t1\t1\t1.00\t0.00\t0.00\n",
      "3\t1\t1\t1.00\t0.00\t0.00\n",
      "4\t1\t1\t1.00\t1.00\t0.00\n",
      "5\t1\t2\t1.00\t0.00\t0.00\n",
      "6\t1\t2\t1.00\t1.00\t0.00\n",
      "7\t1\t3\t1.00\t0.00\t0.00\n",
      "8\t1\t3\t1.00\t1.00\t0.00\n",
      "9\t1\t3\t1.00\t1.00\t0.00\n",
      "10\t1\t3\t1.00\t1.00\t0.00\n",
      "11\t1\t3\t1.00\t1.00\t0.00\n",
      "12\t3\t3\t1.00\t1.00\n"
     ]
    },
    {
     "data": {
      "image/png": "[encoded data removed]",
      "text/plain": [
       "<matplotlib.figure.Figure at 0x7f3d22a5f1d0>"
      ]
     },
     "metadata": {},
     "output_type": "display_data"
    }
   ],
   "source": [
    "Tl[0,:] = [14,14]\n",
    "Tl[1,:] = [14,12]\n",
    "Tl[2,:] = [10,8]\n",
    "Tr[0,:] = [14,14]\n",
    "Tr[1,:] = [14,14]\n",
    "Tr[2,:] = [14,14]\n",
    "plot_test_case(Tl,Tr,zl,zr,drdt,'Right unstratified column',fortran_unit_tests=fortran_unit_tests)"
   ]
  },
  {
   "cell_type": "code",
   "execution_count": 14,
   "metadata": {},
   "outputs": [
    {
     "name": "stdout",
     "output_type": "stream",
     "text": [
      "ki\tKoL\tKoR\tPoL\tPoR\thEff\n",
      "1\t1\t1\t0.00\t0.00\t0.00\n",
      "2\t1\t1\t1.00\t0.00\t0.00\n",
      "3\t1\t1\t1.00\t0.00\t0.00\n",
      "4\t1\t1\t1.00\t1.00\t0.00\n",
      "5\t1\t2\t1.00\t0.00\t0.00\n",
      "6\t1\t2\t1.00\t1.00\t0.00\n",
      "7\t2\t3\t0.00\t0.00\t0.00\n",
      "8\t2\t3\t1.00\t0.00\t0.00\n",
      "9\t2\t3\t1.00\t0.00\t0.00\n",
      "10\t3\t3\t0.00\t0.25\t4.00\n",
      "11\t3\t3\t1.00\t0.50\t0.00\n",
      "12\t3\t3\t1.00\t1.00\n"
     ]
    },
    {
     "data": {
      "image/png": "[encoded data removed]",
      "text/plain": [
       "<matplotlib.figure.Figure at 0x7f3d22664d68>"
      ]
     },
     "metadata": {},
     "output_type": "display_data"
    }
   ],
   "source": [
    "Tl[0,:] = [14,14]\n",
    "Tl[1,:] = [14,12]\n",
    "Tl[2,:] = [10,8]\n",
    "Tr[0,:] = [14,14]\n",
    "Tr[1,:] = [14,14]\n",
    "Tr[2,:] = [12,4]\n",
    "plot_test_case(Tl,Tr,zl,zr,drdt,'Right unstratified column',fortran_unit_tests=fortran_unit_tests)"
   ]
  },
  {
   "cell_type": "code",
   "execution_count": 15,
   "metadata": {},
   "outputs": [
    {
     "name": "stdout",
     "output_type": "stream",
     "text": [
      "ki\tKoL\tKoR\tPoL\tPoR\thEff\n",
      "1\t1\t1\t0.00\t0.00\t0.00\n",
      "2\t1\t1\t1.00\t0.00\t0.00\n",
      "3\t1\t1\t1.00\t0.00\t0.00\n",
      "4\t1\t1\t1.00\t1.00\t0.00\n",
      "5\t2\t2\t0.00\t0.00\t0.00\n",
      "6\t2\t2\t0.00\t0.00\t10.00\n",
      "7\t2\t2\t1.00\t1.00\t0.00\n",
      "8\t2\t3\t1.00\t0.00\t0.00\n",
      "9\t3\t3\t0.00\t0.00\t0.00\n",
      "10\t3\t3\t0.00\t0.00\t10.00\n",
      "11\t3\t3\t1.00\t1.00\t0.00\n",
      "12\t3\t3\t1.00\t1.00\n"
     ]
    },
    {
     "data": {
      "image/png": "[encoded data removed]",
      "text/plain": [
       "<matplotlib.figure.Figure at 0x7f3d22664ef0>"
      ]
     },
     "metadata": {},
     "output_type": "display_data"
    }
   ],
   "source": [
    "Tl[0,:] = [14,14]\n",
    "Tl[1,:] = [14,10]\n",
    "Tl[2,:] = [10,2]\n",
    "Tr[0,:] = [14,14]\n",
    "Tr[1,:] = [14,10]\n",
    "Tr[2,:] = [10,2]\n",
    "plot_test_case(Tl,Tr,zl,zr,drdt,'Identical columns with mixed layer',fortran_unit_tests=fortran_unit_tests)"
   ]
  },
  {
   "cell_type": "code",
   "execution_count": 16,
   "metadata": {},
   "outputs": [
    {
     "name": "stdout",
     "output_type": "stream",
     "text": [
      "ki\tKoL\tKoR\tPoL\tPoR\thEff\n",
      "1\t1\t1\t0.00\t0.00\t0.00\n",
      "2\t1\t1\t0.00\t0.00\t10.00\n",
      "3\t1\t1\t1.00\t1.00\t0.00\n",
      "4\t1\t2\t1.00\t0.00\t0.00\n",
      "5\t2\t2\t0.00\t0.00\t0.00\n",
      "6\t2\t2\t1.00\t0.00\t0.00\n",
      "7\t3\t2\t0.00\t0.00\t0.00\n",
      "8\t3\t2\t0.00\t1.00\t0.00\n",
      "9\t3\t2\t0.00\t1.00\t0.00\n",
      "10\t3\t3\t0.00\t0.00\t10.00\n",
      "11\t3\t3\t1.00\t1.00\t0.00\n",
      "12\t3\t3\t1.00\t1.00\n"
     ]
    },
    {
     "data": {
      "image/png": "[encoded data removed]",
      "text/plain": [
       "<matplotlib.figure.Figure at 0x7f3d22844c50>"
      ]
     },
     "metadata": {},
     "output_type": "display_data"
    }
   ],
   "source": [
    "Tl[0,:] = [14,12]\n",
    "Tl[1,:] = [10,10]\n",
    "Tl[2,:] = [8,2]\n",
    "Tr[0,:] = [14,12]\n",
    "Tr[1,:] = [12,8]\n",
    "Tr[2,:] = [8,2]\n",
    "plot_test_case(Tl,Tr,zl,zr,drdt,'Left interior unstratified',fortran_unit_tests=fortran_unit_tests)"
   ]
  },
  {
   "cell_type": "code",
   "execution_count": 17,
   "metadata": {},
   "outputs": [
    {
     "name": "stdout",
     "output_type": "stream",
     "text": [
      "ki\tKoL\tKoR\tPoL\tPoR\thEff\n",
      "1\t1\t1\t0.00\t0.00\t0.00\n",
      "2\t1\t1\t1.00\t0.00\t0.00\n",
      "3\t2\t1\t0.00\t0.00\t0.00\n",
      "4\t2\t1\t0.00\t0.00\t10.00\n",
      "5\t2\t1\t1.00\t1.00\t0.00\n",
      "6\t3\t1\t0.00\t1.00\t0.00\n",
      "7\t3\t2\t0.00\t0.00\t0.00\n",
      "8\t3\t2\t0.00\t1.00\t0.00\n",
      "9\t3\t3\t0.00\t0.00\t0.00\n",
      "10\t3\t3\t0.50\t0.00\t5.00\n",
      "11\t3\t3\t1.00\t0.50\t0.00\n",
      "12\t3\t3\t1.00\t1.00\n"
     ]
    },
    {
     "data": {
      "image/png": "[encoded data removed]",
      "text/plain": [
       "<matplotlib.figure.Figure at 0x7f3d226c54e0>"
      ]
     },
     "metadata": {},
     "output_type": "display_data"
    }
   ],
   "source": [
    "Tl[0,:] = [12,12]\n",
    "Tl[1,:] = [12,10]\n",
    "Tl[2,:] = [10,6]\n",
    "Tr[0,:] = [12,10]\n",
    "Tr[1,:] = [10,12]\n",
    "Tr[2,:] = [8,4]\n",
    "plot_test_case(Tl,Tr,zl,zr,drdt,'Left mixed layer, Right unstable interior',fortran_unit_tests=fortran_unit_tests)"
   ]
  },
  {
   "cell_type": "code",
   "execution_count": 18,
   "metadata": {},
   "outputs": [
    {
     "name": "stdout",
     "output_type": "stream",
     "text": [
      "ki\tKoL\tKoR\tPoL\tPoR\thEff\n",
      "1\t1\t1\t0.00\t0.00\t0.00\n",
      "2\t1\t1\t1.00\t0.00\t0.00\n",
      "3\t2\t1\t0.00\t0.00\t0.00\n",
      "4\t2\t1\t1.00\t0.00\t0.00\n",
      "5\t2\t1\t1.00\t0.00\t0.00\n",
      "6\t2\t1\t1.00\t1.00\t0.00\n",
      "7\t2\t2\t1.00\t0.00\t0.00\n",
      "8\t2\t2\t1.00\t1.00\t0.00\n",
      "9\t3\t3\t0.00\t0.00\t0.00\n",
      "10\t3\t3\t0.00\t0.50\t4.00\n",
      "11\t3\t3\t1.00\t0.75\t0.00\n",
      "12\t3\t3\t1.00\t1.00\n"
     ]
    },
    {
     "data": {
      "image/png": "[encoded data removed]",
      "text/plain": [
       "<matplotlib.figure.Figure at 0x7f3d226c51d0>"
      ]
     },
     "metadata": {},
     "output_type": "display_data"
    }
   ],
   "source": [
    "Tl[0,:] = [14,14]\n",
    "Tl[1,:] = [10,10]\n",
    "Tl[2,:] = [8,6]\n",
    "Tr[0,:] = [10,14]\n",
    "Tr[1,:] = [16,16]\n",
    "Tr[2,:] = [12,4]\n",
    "plot_test_case(Tl,Tr,zl,zr,drdt,'Left thick mixed layer, Right unstable mixed',fortran_unit_tests=fortran_unit_tests)"
   ]
  },
  {
   "cell_type": "code",
   "execution_count": 19,
   "metadata": {},
   "outputs": [
    {
     "name": "stdout",
     "output_type": "stream",
     "text": [
      "ki\tKoL\tKoR\tPoL\tPoR\thEff\n",
      "1\t1\t1\t0.00\t0.00\t0.00\n",
      "2\t1\t1\t1.00\t0.00\t0.00\n",
      "3\t1\t1\t1.00\t0.00\t0.00\n",
      "4\t1\t1\t1.00\t1.00\t0.00\n",
      "5\t2\t2\t0.00\t0.00\t0.00\n",
      "6\t2\t2\t0.00\t1.00\t0.00\n",
      "7\t2\t2\t0.00\t1.00\t0.00\n",
      "8\t2\t3\t1.00\t0.00\t0.00\n",
      "9\t3\t3\t0.00\t0.00\t0.00\n",
      "10\t3\t3\t0.00\t0.50\t5.00\n",
      "11\t3\t3\t0.50\t1.00\t0.00\n",
      "12\t3\t3\t1.00\t1.00\n"
     ]
    },
    {
     "data": {
      "image/png": "[encoded data removed]",
      "text/plain": [
       "<matplotlib.figure.Figure at 0x7f3d224c60b8>"
      ]
     },
     "metadata": {},
     "output_type": "display_data"
    }
   ],
   "source": [
    "Tl[0,:] = [8,12]\n",
    "Tl[1,:] = [12,10]\n",
    "Tl[2,:] = [8,4]\n",
    "Tr[0,:] = [10,14]\n",
    "Tr[1,:] = [14,12]\n",
    "Tr[2,:] = [10,6]\n",
    "plot_test_case(Tl,Tr,zl,zr,drdt,'Unstable mixed layers, left cooler',fortran_unit_tests=fortran_unit_tests)"
   ]
  }
 ],
 "metadata": {
  "kernelspec": {
   "display_name": "Python 3",
   "language": "python",
   "name": "python3"
  },
  "language_info": {
   "codemirror_mode": {
    "name": "ipython",
    "version": 3
   },
   "file_extension": ".py",
   "mimetype": "text/x-python",
   "name": "python",
   "nbconvert_exporter": "python",
   "pygments_lexer": "ipython3",
   "version": "3.6.0"
  }
 },
 "nbformat": 4,
 "nbformat_minor": 2
}
